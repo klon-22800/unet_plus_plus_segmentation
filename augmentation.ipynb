{
 "cells": [
  {
   "cell_type": "code",
   "execution_count": 2,
   "metadata": {},
   "outputs": [],
   "source": [
    "import tensorflow as tf\n",
    "import cv2  \n",
    "\n",
    "from PIL import Image"
   ]
  },
  {
   "cell_type": "code",
   "execution_count": 8,
   "metadata": {},
   "outputs": [],
   "source": [
    "#Augmentation through rotations and reflections\n",
    "for i in range(1, 11):\n",
    "    image = tf.io.read_file(f'datatset_buildings\\\\init\\\\{i}.png')\n",
    "    image = tf.image.decode_png(image, channels=3)\n",
    "    \n",
    "    mask = tf.io.read_file(f'datatset_buildings\\\\mask\\\\{i}.png')\n",
    "    mask = tf.image.decode_png(mask, channels=1) \n",
    "    \n",
    "    for m in range(1, 3):\n",
    "        if m % 2 == 0:\n",
    "            image = tf.image.flip_left_right(image)\n",
    "            mask = tf.image.flip_left_right(mask)\n",
    "        for j in range(1, 5):\n",
    "            image = tf.image.rot90(image, k=j-1)\n",
    "            mask = tf.image.rot90(mask, k=j-1)\n",
    "\n",
    "            image = tf.cast(image, tf.uint8).numpy()\n",
    "            mask = tf.cast(mask, tf.uint8).numpy()\n",
    "\n",
    "            index = (i - 1) * 8 + (m - 1) * 4 + j\n",
    "            cv2.imwrite(f'datatset_buildings\\\\augment_img\\\\{index}.png', image)\n",
    "            cv2.imwrite(f'datatset_buildings\\\\augment_mask\\\\{index}.png', mask)"
   ]
  },
  {
   "cell_type": "code",
   "execution_count": null,
   "metadata": {},
   "outputs": [],
   "source": [
    "def crop_image(image_path, output_path, size):\n",
    "    with Image.open(image_path) as img:\n",
    "        width, height = img.size\n",
    "        \n",
    "        left = (width - size) / 2\n",
    "        top = (height - size) / 2\n",
    "        right = (width + size) / 2\n",
    "        bottom = (height + size) / 2\n",
    "        \n",
    "        img_cropped = img.crop((left, top, right, bottom))\n",
    "        \n",
    "        img_cropped.save(output_path)\n",
    "\n",
    "for i in range(1, 10):\n",
    "    crop_image(f\"dataset_vegetation\\\\init\\\\{i}.png\", f\"dataset_vegetation\\\\crop256\\\\{i}.png\", 256)"
   ]
  },
  {
   "cell_type": "code",
   "execution_count": 10,
   "metadata": {},
   "outputs": [],
   "source": [
    "for i in range(1, 81):\n",
    "    image = cv2.imread(f\"datatset_buildings\\\\augment_img\\\\{i}.png\")\n",
    "    median_blurred_image = cv2.medianBlur(image, 5)  #Here 5 is the kernel size\n",
    "    cv2.imwrite(f\"datatset_buildings\\\\augment_blur_img\\\\{i}.png\",median_blurred_image)"
   ]
  }
 ],
 "metadata": {
  "kernelspec": {
   "display_name": "Python 3",
   "language": "python",
   "name": "python3"
  },
  "language_info": {
   "codemirror_mode": {
    "name": "ipython",
    "version": 3
   },
   "file_extension": ".py",
   "mimetype": "text/x-python",
   "name": "python",
   "nbconvert_exporter": "python",
   "pygments_lexer": "ipython3",
   "version": "3.12.6"
  }
 },
 "nbformat": 4,
 "nbformat_minor": 2
}
