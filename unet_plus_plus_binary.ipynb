{
 "cells": [
  {
   "cell_type": "code",
   "execution_count": 1,
   "metadata": {},
   "outputs": [],
   "source": [
    "import tensorflow as tf\n",
    "import numpy as np\n",
    "import os\n",
    "import matplotlib.pyplot as plt\n",
    "\n",
    "from PIL import Image\n",
    "from tensorflow.keras import layers, models\n",
    "from sklearn.model_selection import train_test_split"
   ]
  },
  {
   "cell_type": "markdown",
   "metadata": {},
   "source": [
    "# Создание датасета"
   ]
  },
  {
   "cell_type": "code",
   "execution_count": null,
   "metadata": {},
   "outputs": [],
   "source": [
    "image_dir = 'datatset_buildings\\\\augment_blur_img' #path to image directories \n",
    "mask_dir = 'datatset_buildings\\\\augment_mask' #path to masks dorectories\n",
    " \n",
    "IMG_HEIGHT = 256\n",
    "IMG_WIDTH = 256\n",
    "\n",
    "def load_data(image_dir, mask_dir):\n",
    "    images = []\n",
    "    masks = []\n",
    "\n",
    "    for filename in os.listdir(image_dir):\n",
    "        img_path = os.path.join(image_dir, filename)\n",
    "        mask_path = os.path.join(mask_dir, filename.replace('.jpg', '.png'))  \n",
    "\n",
    "        image = Image.open(img_path).convert('RGB').resize((IMG_WIDTH, IMG_HEIGHT))\n",
    "        mask = Image.open(mask_path).resize((IMG_WIDTH, IMG_HEIGHT))\n",
    "\n",
    "        image = np.array(image) / 255.0  \n",
    "        mask = np.array(mask)\n",
    "\n",
    "        mask = np.where(mask > 0, 1, 0) \n",
    "\n",
    "        images.append(image)\n",
    "        masks.append(mask)\n",
    "\n",
    "    return np.array(images), np.array(masks)\n",
    "\n",
    "images, masks = load_data(image_dir, mask_dir)\n",
    "\n",
    "masks = np.expand_dims(masks, axis=-1)\n",
    "\n",
    "print(\"Image shape:\", images.shape) \n",
    "print(\"Mask shape:\", masks.shape) "
   ]
  },
  {
   "cell_type": "markdown",
   "metadata": {},
   "source": [
    "# Инициализация модели и обучение"
   ]
  },
  {
   "cell_type": "code",
   "execution_count": 17,
   "metadata": {},
   "outputs": [],
   "source": [
    "X_train, X_val, y_train, y_val = train_test_split(images, masks, test_size=0.2, random_state=42)\n",
    "\n",
    "def unet_plus_plus(input_size=(IMG_HEIGHT, IMG_WIDTH, 3), n_classes=1):\n",
    "    inputs = layers.Input(input_size)\n",
    "\n",
    "    c1 = layers.Conv2D(64, (3, 3), activation='relu', padding='same')(inputs)\n",
    "    c1 = layers.Conv2D(64, (3, 3), activation='relu', padding='same')(c1)\n",
    "    p1 = layers.MaxPooling2D((2, 2))(c1)\n",
    "\n",
    "    c2 = layers.Conv2D(128, (3, 3), activation='relu', padding='same')(p1)\n",
    "    c2 = layers.Conv2D(128, (3, 3), activation='relu', padding='same')(c2)\n",
    "    p2 = layers.MaxPooling2D((2, 2))(c2)\n",
    "\n",
    "    c3 = layers.Conv2D(256, (3, 3), activation='relu', padding='same')(p2)\n",
    "    c3 = layers.Conv2D(256, (3, 3), activation='relu', padding='same')(c3)\n",
    "    p3 = layers.MaxPooling2D((2, 2))(c3)\n",
    "\n",
    "    c4 = layers.Conv2D(512, (3, 3), activation='relu', padding='same')(p3)\n",
    "    c4 = layers.Conv2D(512, (3, 3), activation='relu', padding='same')(c4)\n",
    "    p4 = layers.MaxPooling2D(pool_size=(2, 2))(c4)\n",
    "\n",
    "    c5 = layers.Conv2D(1024, (3, 3), activation='relu', padding='same')(p4)\n",
    "    c5 = layers.Conv2D(1024, (3, 3), activation='relu', padding='same')(c5)\n",
    "\n",
    "    x1_0 = c1  \n",
    "    x2_0 = c2 \n",
    "    x3_0 = c3 \n",
    "    x4_0 = c4 \n",
    "    x5_0 = c5  \n",
    "\n",
    "    x4_1 = layers.Conv2D(512, (3, 3), activation='relu', padding='same')(\n",
    "        layers.concatenate([x4_0, layers.Conv2DTranspose(512, (2, 2), strides=(2, 2), padding='same')(x5_0)], axis=-1)\n",
    "    )\n",
    "\n",
    "    x3_1 = layers.Conv2D(256, (3, 3), activation='relu', padding='same')(\n",
    "        layers.concatenate([x3_0, layers.Conv2DTranspose(256, (2, 2), strides=(2, 2), padding='same')(x4_1)], axis=-1)\n",
    "    )\n",
    "    x3_2 = layers.Conv2D(256, (3, 3), activation='relu', padding='same')(\n",
    "        layers.concatenate([x3_1, layers.Conv2DTranspose(256, (2, 2), strides=(2, 2), padding='same')(x4_1)], axis=-1)\n",
    "    )\n",
    "\n",
    "    x2_1 = layers.Conv2D(128, (3, 3), activation='relu', padding='same')(\n",
    "        layers.concatenate([x2_0, layers.Conv2DTranspose(128, (2, 2), strides=(2, 2), padding='same')(x3_1)], axis=-1)\n",
    "    )\n",
    "    x2_2 = layers.Conv2D(128, (3, 3), activation='relu', padding='same')(\n",
    "        layers.concatenate([x2_1, layers.Conv2DTranspose(128, (2, 2), strides=(2, 2), padding='same')(x3_2)], axis=-1)\n",
    "    )\n",
    "\n",
    "    x1_1 = layers.Conv2D(64, (3, 3), activation='relu', padding='same')(\n",
    "        layers.concatenate([x1_0, layers.Conv2DTranspose(64, (2, 2), strides=(2, 2), padding='same')(x2_1)], axis=-1)\n",
    "    )\n",
    "    x1_2 = layers.Conv2D(64, (3, 3), activation='relu', padding='same')(\n",
    "        layers.concatenate([x1_1, layers.Conv2DTranspose(64, (2, 2), strides=(2, 2), padding='same')(x2_2)], axis=-1)\n",
    "    )\n",
    "\n",
    "    outputs = layers.Conv2D(n_classes, (1, 1), activation='sigmoid')(x1_2)\n",
    "\n",
    "    model = models.Model(inputs=[inputs], outputs=[outputs])\n",
    "    return model"
   ]
  },
  {
   "cell_type": "code",
   "execution_count": 5,
   "metadata": {},
   "outputs": [],
   "source": [
    "from tensorflow.keras import backend as K\n",
    "from tensorflow.keras.callbacks import EarlyStopping, ReduceLROnPlateau\n",
    "from tensorflow.keras.optimizers import Adam\n",
    "\n",
    "\n",
    "def dice_coefficient(y_true, y_pred, smooth=1):\n",
    "    y_true_f = K.cast(K.flatten(y_true), 'float32')\n",
    "    y_pred_f = K.flatten(y_pred)\n",
    "    intersection = K.sum(y_true_f * y_pred_f)\n",
    "    return (2. * intersection + smooth) / (K.sum(y_true_f) + K.sum(y_pred_f) + smooth)\n",
    "\n",
    "def iou(y_true, y_pred, smooth=1):\n",
    "    y_true_f = K.cast(K.flatten(y_true), 'float32')\n",
    "    y_pred_f = K.flatten(y_pred)\n",
    "    intersection = K.sum(y_true_f * y_pred_f)\n",
    "    union = K.sum(y_true_f) + K.sum(y_pred_f) - intersection\n",
    "    return (intersection + smooth) / (union + smooth)\n",
    "\n",
    "def focal_dice_loss(y_true, y_pred, alpha=0.25, gamma=2):\n",
    "    dice = dice_coefficient(y_true, y_pred)\n",
    "    focal_dice = alpha * K.pow(1 - dice, gamma)\n",
    "    return 1 - dice + focal_dice\n",
    "\n",
    "early_stopping = EarlyStopping(monitor='val_loss', patience=5, min_delta=1e-4, restore_best_weights=True)\n",
    "lr_reducer = ReduceLROnPlateau(monitor='val_loss', factor=0.7, patience=2, min_lr=1e-6)\n",
    "\n",
    "model = unet_plus_plus()\n",
    "model.compile(optimizer=Adam(learning_rate=0.0001), \n",
    "              loss=focal_dice_loss, \n",
    "              metrics=['accuracy', dice_coefficient, iou])"
   ]
  },
  {
   "cell_type": "code",
   "execution_count": null,
   "metadata": {},
   "outputs": [],
   "source": [
    "history = model.fit(\n",
    "    X_train, y_train,\n",
    "    validation_data=(X_val, y_val),\n",
    "    batch_size=8,\n",
    "    epochs=100,  \n",
    "    callbacks=[early_stopping, lr_reducer]\n",
    ")"
   ]
  },
  {
   "cell_type": "code",
   "execution_count": null,
   "metadata": {},
   "outputs": [],
   "source": [
    "model.save('unet_buildings_median_blur_binary_256_250_new.h5')"
   ]
  },
  {
   "cell_type": "markdown",
   "metadata": {},
   "source": [
    "# Загрузка модели и проверка на валидационном датасете"
   ]
  },
  {
   "cell_type": "code",
   "execution_count": null,
   "metadata": {},
   "outputs": [],
   "source": [
    "from tensorflow.keras.models import load_model\n",
    "\n",
    "model = load_model('models\\\\unet++_buildings_median_blur_binary_256_250.h5', custom_objects={'focal_dice_loss': focal_dice_loss, 'dice_coefficient': dice_coefficient, 'iou': iou})"
   ]
  },
  {
   "cell_type": "code",
   "execution_count": null,
   "metadata": {},
   "outputs": [],
   "source": [
    "def plot_sample_predictions(X_val, y_val, model, num_samples=5):\n",
    "    preds = model.predict(X_val)\n",
    "    \n",
    "    for i in range(len(preds)):\n",
    "        fig, ax = plt.subplots(1, 3, figsize=(15, 5))\n",
    "        ax[0].imshow(X_val[i])\n",
    "        ax[0].set_title(\"Init image\")\n",
    "\n",
    "        ax[1].imshow(y_val[i], cmap='gray')\n",
    "        ax[1].set_title(\"Init mask\")\n",
    "        \n",
    "        binary_array = np.where(preds[i] > 0.8, 1, 0).astype(np.uint8)\n",
    "        ax[2].imshow(binary_array, cmap='gray')\n",
    "        \n",
    "        ax[2].imshow(preds[i])\n",
    "        ax[2].set_title(f\"Predicted mask DICE: {dice_coefficient(y_val[i], preds[i])}\")\n",
    "        print(1-focal_dice_loss(y_val[i],preds[i]))\n",
    "        \n",
    "        plt.show()\n",
    "\n",
    "plot_sample_predictions(X_val, y_val, model)"
   ]
  }
 ],
 "metadata": {
  "kernelspec": {
   "display_name": "Python 3",
   "language": "python",
   "name": "python3"
  },
  "language_info": {
   "codemirror_mode": {
    "name": "ipython",
    "version": 3
   },
   "file_extension": ".py",
   "mimetype": "text/x-python",
   "name": "python",
   "nbconvert_exporter": "python",
   "pygments_lexer": "ipython3",
   "version": "3.12.6"
  }
 },
 "nbformat": 4,
 "nbformat_minor": 2
}
